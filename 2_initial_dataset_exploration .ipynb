{
 "cells": [
  {
   "cell_type": "code",
   "execution_count": 1,
   "metadata": {},
   "outputs": [
    {
     "name": "stderr",
     "output_type": "stream",
     "text": [
      "D:\\anacoda\\lib\\site-packages\\IPython\\core\\interactiveshell.py:2785: DtypeWarning: Columns (14,15,16,24) have mixed types. Specify dtype option on import or set low_memory=False.\n",
      "  interactivity=interactivity, compiler=compiler, result=result)\n"
     ]
    },
    {
     "data": {
      "text/html": [
       "<div>\n",
       "<style scoped>\n",
       "    .dataframe tbody tr th:only-of-type {\n",
       "        vertical-align: middle;\n",
       "    }\n",
       "\n",
       "    .dataframe tbody tr th {\n",
       "        vertical-align: top;\n",
       "    }\n",
       "\n",
       "    .dataframe thead th {\n",
       "        text-align: right;\n",
       "    }\n",
       "</style>\n",
       "<table border=\"1\" class=\"dataframe\">\n",
       "  <thead>\n",
       "    <tr style=\"text-align: right;\">\n",
       "      <th></th>\n",
       "      <th>CASE_NUMBER</th>\n",
       "      <th>CASE_STATUS</th>\n",
       "      <th>CASE_SUBMITTED</th>\n",
       "      <th>DECISION_DATE</th>\n",
       "      <th>VISA_CLASS</th>\n",
       "      <th>EMPLOYMENT_START_DATE</th>\n",
       "      <th>EMPLOYMENT_END_DATE</th>\n",
       "      <th>EMPLOYER_NAME</th>\n",
       "      <th>EMPLOYER_BUSINESS_DBA</th>\n",
       "      <th>EMPLOYER_ADDRESS</th>\n",
       "      <th>...</th>\n",
       "      <th>H1B_DEPENDENT</th>\n",
       "      <th>WILLFUL_VIOLATOR</th>\n",
       "      <th>SUPPORT_H1B</th>\n",
       "      <th>LABOR_CON_AGREE</th>\n",
       "      <th>PUBLIC_DISCLOSURE_LOCATION</th>\n",
       "      <th>WORKSITE_CITY</th>\n",
       "      <th>WORKSITE_COUNTY</th>\n",
       "      <th>WORKSITE_STATE</th>\n",
       "      <th>WORKSITE_POSTAL_CODE</th>\n",
       "      <th>ORIGINAL_CERT_DATE</th>\n",
       "    </tr>\n",
       "  </thead>\n",
       "  <tbody>\n",
       "    <tr>\n",
       "      <th>0</th>\n",
       "      <td>I-200-15279-248712</td>\n",
       "      <td>CERTIFIED-WITHDRAWN</td>\n",
       "      <td>2015-10-06</td>\n",
       "      <td>2017-10-01</td>\n",
       "      <td>H-1B</td>\n",
       "      <td>2015-11-15</td>\n",
       "      <td>2017-11-14</td>\n",
       "      <td>MASSACHUSETTS INSTITUTE OF TECHNOLOGY</td>\n",
       "      <td>NaN</td>\n",
       "      <td>77 MASSACHUSETTS AVENUE</td>\n",
       "      <td>...</td>\n",
       "      <td>N</td>\n",
       "      <td>N</td>\n",
       "      <td>NaN</td>\n",
       "      <td>Y</td>\n",
       "      <td>NaN</td>\n",
       "      <td>CAMBRIDGE</td>\n",
       "      <td>MIDDLESEX</td>\n",
       "      <td>MA</td>\n",
       "      <td>02139</td>\n",
       "      <td>2015-10-13</td>\n",
       "    </tr>\n",
       "    <tr>\n",
       "      <th>1</th>\n",
       "      <td>I-200-16134-779506</td>\n",
       "      <td>CERTIFIED-WITHDRAWN</td>\n",
       "      <td>2016-05-13</td>\n",
       "      <td>2017-10-01</td>\n",
       "      <td>H-1B</td>\n",
       "      <td>2016-09-01</td>\n",
       "      <td>2019-08-31</td>\n",
       "      <td>MASSACHUSETTS INSTITUTE OF TECHNOLOGY (MIT)</td>\n",
       "      <td>NaN</td>\n",
       "      <td>77 MASSACHUSETTS AVENUE</td>\n",
       "      <td>...</td>\n",
       "      <td>N</td>\n",
       "      <td>N</td>\n",
       "      <td>NaN</td>\n",
       "      <td>NaN</td>\n",
       "      <td>NaN</td>\n",
       "      <td>CAMBRIDGE</td>\n",
       "      <td>MIDDLESEX COUNTY</td>\n",
       "      <td>MA</td>\n",
       "      <td>02139</td>\n",
       "      <td>2016-05-19</td>\n",
       "    </tr>\n",
       "    <tr>\n",
       "      <th>2</th>\n",
       "      <td>I-200-16309-239165</td>\n",
       "      <td>CERTIFIED-WITHDRAWN</td>\n",
       "      <td>2016-11-04</td>\n",
       "      <td>2017-10-01</td>\n",
       "      <td>H-1B</td>\n",
       "      <td>2016-12-01</td>\n",
       "      <td>2017-11-30</td>\n",
       "      <td>MASSACHUSETTS INSTITUTE OF TECHNOLOGY</td>\n",
       "      <td>NaN</td>\n",
       "      <td>77 MASSACHUSETTS AVENUE</td>\n",
       "      <td>...</td>\n",
       "      <td>N</td>\n",
       "      <td>N</td>\n",
       "      <td>NaN</td>\n",
       "      <td>Y</td>\n",
       "      <td>NaN</td>\n",
       "      <td>CAMBRIDGE</td>\n",
       "      <td>MIDDLESEX</td>\n",
       "      <td>MA</td>\n",
       "      <td>02139</td>\n",
       "      <td>2016-11-10</td>\n",
       "    </tr>\n",
       "    <tr>\n",
       "      <th>3</th>\n",
       "      <td>I-200-16363-692687</td>\n",
       "      <td>CERTIFIED-WITHDRAWN</td>\n",
       "      <td>2016-12-28</td>\n",
       "      <td>2017-10-01</td>\n",
       "      <td>H-1B</td>\n",
       "      <td>2017-02-01</td>\n",
       "      <td>2018-01-31</td>\n",
       "      <td>MASSACHUSETTS INSTITUTE OF TECHNOLOGY</td>\n",
       "      <td>NaN</td>\n",
       "      <td>77 MASSACHUSETTS AVENUE</td>\n",
       "      <td>...</td>\n",
       "      <td>N</td>\n",
       "      <td>N</td>\n",
       "      <td>NaN</td>\n",
       "      <td>Y</td>\n",
       "      <td>NaN</td>\n",
       "      <td>CAMBRIDGE</td>\n",
       "      <td>MIDDLESEX</td>\n",
       "      <td>MA</td>\n",
       "      <td>02139</td>\n",
       "      <td>2017-01-04</td>\n",
       "    </tr>\n",
       "    <tr>\n",
       "      <th>4</th>\n",
       "      <td>I-200-17055-511599</td>\n",
       "      <td>CERTIFIED-WITHDRAWN</td>\n",
       "      <td>2017-02-24</td>\n",
       "      <td>2017-10-01</td>\n",
       "      <td>H-1B</td>\n",
       "      <td>2017-06-01</td>\n",
       "      <td>2018-05-31</td>\n",
       "      <td>MASSACHUSETTS INSTITUTE OF TECHNOLOGY</td>\n",
       "      <td>NaN</td>\n",
       "      <td>77 MASSACHUSETTS AVENUE</td>\n",
       "      <td>...</td>\n",
       "      <td>N</td>\n",
       "      <td>N</td>\n",
       "      <td>NaN</td>\n",
       "      <td>Y</td>\n",
       "      <td>NaN</td>\n",
       "      <td>CAMBRIDGE</td>\n",
       "      <td>MIDDLESEX</td>\n",
       "      <td>MA</td>\n",
       "      <td>02139</td>\n",
       "      <td>2017-03-02</td>\n",
       "    </tr>\n",
       "    <tr>\n",
       "      <th>5</th>\n",
       "      <td>I-200-17068-828736</td>\n",
       "      <td>CERTIFIED-WITHDRAWN</td>\n",
       "      <td>2017-03-09</td>\n",
       "      <td>2017-10-01</td>\n",
       "      <td>H-1B</td>\n",
       "      <td>2017-09-08</td>\n",
       "      <td>2020-09-08</td>\n",
       "      <td>PARK VIEW TRAVEL BEVERLY HILLS, LLC</td>\n",
       "      <td>NaN</td>\n",
       "      <td>9440 SANTA MONICA BLVD</td>\n",
       "      <td>...</td>\n",
       "      <td>N</td>\n",
       "      <td>N</td>\n",
       "      <td>NaN</td>\n",
       "      <td>NaN</td>\n",
       "      <td>NaN</td>\n",
       "      <td>BEVERLY HILLS</td>\n",
       "      <td>LOS ANGELES</td>\n",
       "      <td>CA</td>\n",
       "      <td>90210</td>\n",
       "      <td>2017-03-15</td>\n",
       "    </tr>\n",
       "    <tr>\n",
       "      <th>6</th>\n",
       "      <td>I-200-17272-504649</td>\n",
       "      <td>WITHDRAWN</td>\n",
       "      <td>2017-09-29</td>\n",
       "      <td>2017-10-01</td>\n",
       "      <td>H-1B</td>\n",
       "      <td>2017-10-16</td>\n",
       "      <td>2018-11-30</td>\n",
       "      <td>IBM INDIA PRIVATE LIMITED</td>\n",
       "      <td>NaN</td>\n",
       "      <td>3039 CORNWALLIS ROAD</td>\n",
       "      <td>...</td>\n",
       "      <td>N</td>\n",
       "      <td>N</td>\n",
       "      <td>NaN</td>\n",
       "      <td>NaN</td>\n",
       "      <td>NaN</td>\n",
       "      <td>DOWNERS GROVE</td>\n",
       "      <td>DUPAGE</td>\n",
       "      <td>IL</td>\n",
       "      <td>60515</td>\n",
       "      <td>NaN</td>\n",
       "    </tr>\n",
       "    <tr>\n",
       "      <th>7</th>\n",
       "      <td>I-200-17272-214308</td>\n",
       "      <td>WITHDRAWN</td>\n",
       "      <td>2017-09-29</td>\n",
       "      <td>2017-10-01</td>\n",
       "      <td>H-1B</td>\n",
       "      <td>2017-11-01</td>\n",
       "      <td>2018-12-12</td>\n",
       "      <td>IBM INDIA PRIVATE LIMITED</td>\n",
       "      <td>NaN</td>\n",
       "      <td>3039 CORNWALLIS ROAD</td>\n",
       "      <td>...</td>\n",
       "      <td>N</td>\n",
       "      <td>N</td>\n",
       "      <td>NaN</td>\n",
       "      <td>NaN</td>\n",
       "      <td>NaN</td>\n",
       "      <td>WHITEHOUSE STATION</td>\n",
       "      <td>HUNTERDON</td>\n",
       "      <td>NJ</td>\n",
       "      <td>08889</td>\n",
       "      <td>NaN</td>\n",
       "    </tr>\n",
       "    <tr>\n",
       "      <th>8</th>\n",
       "      <td>I-200-17274-569577</td>\n",
       "      <td>WITHDRAWN</td>\n",
       "      <td>2017-10-01</td>\n",
       "      <td>2017-10-01</td>\n",
       "      <td>H-1B</td>\n",
       "      <td>2017-10-04</td>\n",
       "      <td>2019-10-03</td>\n",
       "      <td>BTREE SOLUTIONS INC</td>\n",
       "      <td>NaN</td>\n",
       "      <td>570 HERNDON PARKWAY</td>\n",
       "      <td>...</td>\n",
       "      <td>Y</td>\n",
       "      <td>N</td>\n",
       "      <td>Y</td>\n",
       "      <td>NaN</td>\n",
       "      <td>NaN</td>\n",
       "      <td>COLUMBUS</td>\n",
       "      <td>FRANKLIN</td>\n",
       "      <td>OH</td>\n",
       "      <td>43214</td>\n",
       "      <td>NaN</td>\n",
       "    </tr>\n",
       "    <tr>\n",
       "      <th>9</th>\n",
       "      <td>I-200-17274-195279</td>\n",
       "      <td>WITHDRAWN</td>\n",
       "      <td>2017-10-01</td>\n",
       "      <td>2017-10-01</td>\n",
       "      <td>H-1B</td>\n",
       "      <td>2018-01-01</td>\n",
       "      <td>2020-12-31</td>\n",
       "      <td>YOUNIS ART STUDIO, INC,</td>\n",
       "      <td>MARIANAS VARIETY NEWS AND VIEWS</td>\n",
       "      <td>P. O. BOX 500231</td>\n",
       "      <td>...</td>\n",
       "      <td>N</td>\n",
       "      <td>N</td>\n",
       "      <td>NaN</td>\n",
       "      <td>Y</td>\n",
       "      <td>NaN</td>\n",
       "      <td>SAIPAN</td>\n",
       "      <td>NaN</td>\n",
       "      <td>MP</td>\n",
       "      <td>96950</td>\n",
       "      <td>NaN</td>\n",
       "    </tr>\n",
       "  </tbody>\n",
       "</table>\n",
       "<p>10 rows × 52 columns</p>\n",
       "</div>"
      ],
      "text/plain": [
       "          CASE_NUMBER          CASE_STATUS CASE_SUBMITTED DECISION_DATE  \\\n",
       "0  I-200-15279-248712  CERTIFIED-WITHDRAWN     2015-10-06    2017-10-01   \n",
       "1  I-200-16134-779506  CERTIFIED-WITHDRAWN     2016-05-13    2017-10-01   \n",
       "2  I-200-16309-239165  CERTIFIED-WITHDRAWN     2016-11-04    2017-10-01   \n",
       "3  I-200-16363-692687  CERTIFIED-WITHDRAWN     2016-12-28    2017-10-01   \n",
       "4  I-200-17055-511599  CERTIFIED-WITHDRAWN     2017-02-24    2017-10-01   \n",
       "5  I-200-17068-828736  CERTIFIED-WITHDRAWN     2017-03-09    2017-10-01   \n",
       "6  I-200-17272-504649            WITHDRAWN     2017-09-29    2017-10-01   \n",
       "7  I-200-17272-214308            WITHDRAWN     2017-09-29    2017-10-01   \n",
       "8  I-200-17274-569577            WITHDRAWN     2017-10-01    2017-10-01   \n",
       "9  I-200-17274-195279            WITHDRAWN     2017-10-01    2017-10-01   \n",
       "\n",
       "  VISA_CLASS EMPLOYMENT_START_DATE EMPLOYMENT_END_DATE  \\\n",
       "0       H-1B            2015-11-15          2017-11-14   \n",
       "1       H-1B            2016-09-01          2019-08-31   \n",
       "2       H-1B            2016-12-01          2017-11-30   \n",
       "3       H-1B            2017-02-01          2018-01-31   \n",
       "4       H-1B            2017-06-01          2018-05-31   \n",
       "5       H-1B            2017-09-08          2020-09-08   \n",
       "6       H-1B            2017-10-16          2018-11-30   \n",
       "7       H-1B            2017-11-01          2018-12-12   \n",
       "8       H-1B            2017-10-04          2019-10-03   \n",
       "9       H-1B            2018-01-01          2020-12-31   \n",
       "\n",
       "                                 EMPLOYER_NAME  \\\n",
       "0        MASSACHUSETTS INSTITUTE OF TECHNOLOGY   \n",
       "1  MASSACHUSETTS INSTITUTE OF TECHNOLOGY (MIT)   \n",
       "2        MASSACHUSETTS INSTITUTE OF TECHNOLOGY   \n",
       "3        MASSACHUSETTS INSTITUTE OF TECHNOLOGY   \n",
       "4        MASSACHUSETTS INSTITUTE OF TECHNOLOGY   \n",
       "5          PARK VIEW TRAVEL BEVERLY HILLS, LLC   \n",
       "6                    IBM INDIA PRIVATE LIMITED   \n",
       "7                    IBM INDIA PRIVATE LIMITED   \n",
       "8                          BTREE SOLUTIONS INC   \n",
       "9                      YOUNIS ART STUDIO, INC,   \n",
       "\n",
       "             EMPLOYER_BUSINESS_DBA         EMPLOYER_ADDRESS  \\\n",
       "0                              NaN  77 MASSACHUSETTS AVENUE   \n",
       "1                              NaN  77 MASSACHUSETTS AVENUE   \n",
       "2                              NaN  77 MASSACHUSETTS AVENUE   \n",
       "3                              NaN  77 MASSACHUSETTS AVENUE   \n",
       "4                              NaN  77 MASSACHUSETTS AVENUE   \n",
       "5                              NaN   9440 SANTA MONICA BLVD   \n",
       "6                              NaN     3039 CORNWALLIS ROAD   \n",
       "7                              NaN     3039 CORNWALLIS ROAD   \n",
       "8                              NaN      570 HERNDON PARKWAY   \n",
       "9  MARIANAS VARIETY NEWS AND VIEWS         P. O. BOX 500231   \n",
       "\n",
       "         ...         H1B_DEPENDENT WILLFUL_VIOLATOR SUPPORT_H1B  \\\n",
       "0        ...                     N                N         NaN   \n",
       "1        ...                     N                N         NaN   \n",
       "2        ...                     N                N         NaN   \n",
       "3        ...                     N                N         NaN   \n",
       "4        ...                     N                N         NaN   \n",
       "5        ...                     N                N         NaN   \n",
       "6        ...                     N                N         NaN   \n",
       "7        ...                     N                N         NaN   \n",
       "8        ...                     Y                N           Y   \n",
       "9        ...                     N                N         NaN   \n",
       "\n",
       "  LABOR_CON_AGREE PUBLIC_DISCLOSURE_LOCATION       WORKSITE_CITY  \\\n",
       "0               Y                        NaN           CAMBRIDGE   \n",
       "1             NaN                        NaN           CAMBRIDGE   \n",
       "2               Y                        NaN           CAMBRIDGE   \n",
       "3               Y                        NaN           CAMBRIDGE   \n",
       "4               Y                        NaN           CAMBRIDGE   \n",
       "5             NaN                        NaN       BEVERLY HILLS   \n",
       "6             NaN                        NaN       DOWNERS GROVE   \n",
       "7             NaN                        NaN  WHITEHOUSE STATION   \n",
       "8             NaN                        NaN            COLUMBUS   \n",
       "9               Y                        NaN              SAIPAN   \n",
       "\n",
       "    WORKSITE_COUNTY WORKSITE_STATE WORKSITE_POSTAL_CODE ORIGINAL_CERT_DATE  \n",
       "0         MIDDLESEX             MA                02139         2015-10-13  \n",
       "1  MIDDLESEX COUNTY             MA                02139         2016-05-19  \n",
       "2         MIDDLESEX             MA                02139         2016-11-10  \n",
       "3         MIDDLESEX             MA                02139         2017-01-04  \n",
       "4         MIDDLESEX             MA                02139         2017-03-02  \n",
       "5       LOS ANGELES             CA                90210         2017-03-15  \n",
       "6            DUPAGE             IL                60515                NaN  \n",
       "7         HUNTERDON             NJ                08889                NaN  \n",
       "8          FRANKLIN             OH                43214                NaN  \n",
       "9               NaN             MP                96950                NaN  \n",
       "\n",
       "[10 rows x 52 columns]"
      ]
     },
     "execution_count": 1,
     "metadata": {},
     "output_type": "execute_result"
    }
   ],
   "source": [
    "import pandas as pd\n",
    "\n",
    "df = pd.read_csv(\"datasets/h1b_combined.csv\")\n",
    "df.head(10)"
   ]
  },
  {
   "cell_type": "markdown",
   "metadata": {},
   "source": [
    "Listing the amount of missing values by number and then percentage, Decide to eliminate any columns with more than 10% of their values missing "
   ]
  },
  {
   "cell_type": "code",
   "execution_count": 2,
   "metadata": {},
   "outputs": [
    {
     "data": {
      "text/plain": [
       "CASE_NUMBER                          0\n",
       "CASE_STATUS                          0\n",
       "CASE_SUBMITTED                       0\n",
       "DECISION_DATE                        0\n",
       "VISA_CLASS                           0\n",
       "EMPLOYMENT_START_DATE               34\n",
       "EMPLOYMENT_END_DATE                 37\n",
       "EMPLOYER_NAME                       72\n",
       "EMPLOYER_BUSINESS_DBA          1078568\n",
       "EMPLOYER_ADDRESS                    14\n",
       "EMPLOYER_CITY                       22\n",
       "EMPLOYER_STATE                      51\n",
       "EMPLOYER_POSTAL_CODE                33\n",
       "EMPLOYER_COUNTRY                 96511\n",
       "EMPLOYER_PROVINCE              1154772\n",
       "EMPLOYER_PHONE                   96512\n",
       "EMPLOYER_PHONE_EXT             1109544\n",
       "AGENT_REPRESENTING_EMPLOYER      96516\n",
       "AGENT_ATTORNEY_NAME                  0\n",
       "AGENT_ATTORNEY_CITY             432740\n",
       "AGENT_ATTORNEY_STATE            468602\n",
       "JOB_TITLE                            7\n",
       "SOC_CODE                            12\n",
       "SOC_NAME                            13\n",
       "NAICS_CODE                          11\n",
       "TOTAL_WORKERS                        0\n",
       "NEW_EMPLOYMENT                       0\n",
       "CONTINUED_EMPLOYMENT                 0\n",
       "CHANGE_PREVIOUS_EMPLOYMENT           0\n",
       "NEW_CONCURRENT_EMPLOYMENT            0\n",
       "CHANGE_EMPLOYER                      0\n",
       "AMENDED_PETITION                     0\n",
       "FULL_TIME_POSITION                   9\n",
       "PREVAILING_WAGE                      3\n",
       "PW_UNIT_OF_PAY                      91\n",
       "PW_WAGE_LEVEL                   156303\n",
       "PW_SOURCE                           90\n",
       "PW_SOURCE_YEAR                      99\n",
       "PW_SOURCE_OTHER                  11690\n",
       "WAGE_RATE_OF_PAY_FROM                0\n",
       "WAGE_RATE_OF_PAY_TO                  4\n",
       "WAGE_UNIT_OF_PAY                    16\n",
       "H1B_DEPENDENT                    24475\n",
       "WILLFUL_VIOLATOR                 24483\n",
       "SUPPORT_H1B                     735350\n",
       "LABOR_CON_AGREE                 722511\n",
       "PUBLIC_DISCLOSURE_LOCATION     1166205\n",
       "WORKSITE_CITY                       29\n",
       "WORKSITE_COUNTY                   1982\n",
       "WORKSITE_STATE                      20\n",
       "WORKSITE_POSTAL_CODE                41\n",
       "ORIGINAL_CERT_DATE             1085436\n",
       "dtype: int64"
      ]
     },
     "execution_count": 2,
     "metadata": {},
     "output_type": "execute_result"
    }
   ],
   "source": [
    "df.apply(lambda x: sum(x.isnull()),axis=0)"
   ]
  },
  {
   "cell_type": "code",
   "execution_count": 3,
   "metadata": {},
   "outputs": [
    {
     "data": {
      "text/plain": [
       "CASE_NUMBER                      0.000000\n",
       "CASE_STATUS                      0.000000\n",
       "CASE_SUBMITTED                   0.000000\n",
       "DECISION_DATE                    0.000000\n",
       "VISA_CLASS                       0.000000\n",
       "EMPLOYMENT_START_DATE            0.002915\n",
       "EMPLOYMENT_END_DATE              0.003173\n",
       "EMPLOYER_NAME                    0.006174\n",
       "EMPLOYER_BUSINESS_DBA           92.485283\n",
       "EMPLOYER_ADDRESS                 0.001200\n",
       "EMPLOYER_CITY                    0.001886\n",
       "EMPLOYER_STATE                   0.004373\n",
       "EMPLOYER_POSTAL_CODE             0.002830\n",
       "EMPLOYER_COUNTRY                 8.275646\n",
       "EMPLOYER_PROVINCE               99.019641\n",
       "EMPLOYER_PHONE                   8.275732\n",
       "EMPLOYER_PHONE_EXT              95.141420\n",
       "AGENT_REPRESENTING_EMPLOYER      8.276075\n",
       "AGENT_ATTORNEY_NAME              0.000000\n",
       "AGENT_ATTORNEY_CITY             37.106684\n",
       "AGENT_ATTORNEY_STATE            40.181786\n",
       "JOB_TITLE                        0.000600\n",
       "SOC_CODE                         0.001029\n",
       "SOC_NAME                         0.001115\n",
       "NAICS_CODE                       0.000943\n",
       "TOTAL_WORKERS                    0.000000\n",
       "NEW_EMPLOYMENT                   0.000000\n",
       "CONTINUED_EMPLOYMENT             0.000000\n",
       "CHANGE_PREVIOUS_EMPLOYMENT       0.000000\n",
       "NEW_CONCURRENT_EMPLOYMENT        0.000000\n",
       "CHANGE_EMPLOYER                  0.000000\n",
       "AMENDED_PETITION                 0.000000\n",
       "FULL_TIME_POSITION               0.000772\n",
       "PREVAILING_WAGE                  0.000257\n",
       "PW_UNIT_OF_PAY                   0.007803\n",
       "PW_WAGE_LEVEL                   13.402704\n",
       "PW_SOURCE                        0.007717\n",
       "PW_SOURCE_YEAR                   0.008489\n",
       "PW_SOURCE_OTHER                  1.002397\n",
       "WAGE_RATE_OF_PAY_FROM            0.000000\n",
       "WAGE_RATE_OF_PAY_TO              0.000343\n",
       "WAGE_UNIT_OF_PAY                 0.001372\n",
       "H1B_DEPENDENT                    2.098688\n",
       "WILLFUL_VIOLATOR                 2.099374\n",
       "SUPPORT_H1B                     63.054952\n",
       "LABOR_CON_AGREE                 61.954030\n",
       "PUBLIC_DISCLOSURE_LOCATION     100.000000\n",
       "WORKSITE_CITY                    0.002487\n",
       "WORKSITE_COUNTY                  0.169953\n",
       "WORKSITE_STATE                   0.001715\n",
       "WORKSITE_POSTAL_CODE             0.003516\n",
       "ORIGINAL_CERT_DATE              93.074202\n",
       "dtype: float64"
      ]
     },
     "execution_count": 3,
     "metadata": {},
     "output_type": "execute_result"
    }
   ],
   "source": [
    "df.apply(lambda x: (sum(x.isnull())/1166205) * 100,axis=0) "
   ]
  },
  {
   "cell_type": "code",
   "execution_count": 4,
   "metadata": {},
   "outputs": [],
   "source": [
    "#get rid of rows without a SOC_CODE\n",
    "df = df[~df[\"SOC_CODE\"].isnull()]\n",
    "#too many missing values of coloumns that dont matter \n",
    "df = df.drop(['EMPLOYER_BUSINESS_DBA', 'EMPLOYER_PROVINCE','EMPLOYER_PHONE_EXT','AGENT_ATTORNEY_CITY',\n",
    "            'AGENT_ATTORNEY_STATE','PW_WAGE_LEVEL','PW_SOURCE_OTHER','SUPPORT_H1B','LABOR_CON_AGREE',\n",
    "            'PUBLIC_DISCLOSURE_LOCATION','ORIGINAL_CERT_DATE'], axis=1)\n",
    "#justify removing coloumns"
   ]
  },
  {
   "cell_type": "code",
   "execution_count": 5,
   "metadata": {},
   "outputs": [
    {
     "data": {
      "text/plain": [
       "CASE_NUMBER                        0\n",
       "CASE_STATUS                        0\n",
       "CASE_SUBMITTED                     0\n",
       "DECISION_DATE                      0\n",
       "VISA_CLASS                         0\n",
       "EMPLOYMENT_START_DATE             30\n",
       "EMPLOYMENT_END_DATE               33\n",
       "EMPLOYER_NAME                     69\n",
       "EMPLOYER_ADDRESS                  11\n",
       "EMPLOYER_CITY                     19\n",
       "EMPLOYER_STATE                    48\n",
       "EMPLOYER_POSTAL_CODE              30\n",
       "EMPLOYER_COUNTRY               96507\n",
       "EMPLOYER_PHONE                 96508\n",
       "AGENT_REPRESENTING_EMPLOYER    96508\n",
       "AGENT_ATTORNEY_NAME                0\n",
       "JOB_TITLE                          3\n",
       "SOC_CODE                           0\n",
       "SOC_NAME                           1\n",
       "NAICS_CODE                         8\n",
       "TOTAL_WORKERS                      0\n",
       "NEW_EMPLOYMENT                     0\n",
       "CONTINUED_EMPLOYMENT               0\n",
       "CHANGE_PREVIOUS_EMPLOYMENT         0\n",
       "NEW_CONCURRENT_EMPLOYMENT          0\n",
       "CHANGE_EMPLOYER                    0\n",
       "AMENDED_PETITION                   0\n",
       "FULL_TIME_POSITION                 6\n",
       "PREVAILING_WAGE                    3\n",
       "PW_UNIT_OF_PAY                    87\n",
       "PW_SOURCE                         86\n",
       "PW_SOURCE_YEAR                    88\n",
       "WAGE_RATE_OF_PAY_FROM              0\n",
       "WAGE_RATE_OF_PAY_TO                4\n",
       "WAGE_UNIT_OF_PAY                  12\n",
       "H1B_DEPENDENT                  24471\n",
       "WILLFUL_VIOLATOR               24479\n",
       "WORKSITE_CITY                     25\n",
       "WORKSITE_COUNTY                 1978\n",
       "WORKSITE_STATE                    16\n",
       "WORKSITE_POSTAL_CODE              37\n",
       "dtype: int64"
      ]
     },
     "execution_count": 5,
     "metadata": {},
     "output_type": "execute_result"
    }
   ],
   "source": [
    "df.apply(lambda x: sum(x.isnull()),axis=0) "
   ]
  },
  {
   "cell_type": "code",
   "execution_count": 6,
   "metadata": {},
   "outputs": [],
   "source": [
    "from sklearn.preprocessing import StandardScaler"
   ]
  },
  {
   "cell_type": "code",
   "execution_count": 7,
   "metadata": {},
   "outputs": [
    {
     "data": {
      "text/plain": [
       "155636"
      ]
     },
     "execution_count": 7,
     "metadata": {},
     "output_type": "execute_result"
    }
   ],
   "source": [
    "len(df[\"JOB_TITLE\"].unique())"
   ]
  },
  {
   "cell_type": "code",
   "execution_count": 8,
   "metadata": {},
   "outputs": [
    {
     "data": {
      "text/plain": [
       "CASE_NUMBER                     object\n",
       "CASE_STATUS                     object\n",
       "CASE_SUBMITTED                  object\n",
       "DECISION_DATE                   object\n",
       "VISA_CLASS                      object\n",
       "EMPLOYMENT_START_DATE           object\n",
       "EMPLOYMENT_END_DATE             object\n",
       "EMPLOYER_NAME                   object\n",
       "EMPLOYER_ADDRESS                object\n",
       "EMPLOYER_CITY                   object\n",
       "EMPLOYER_STATE                  object\n",
       "EMPLOYER_POSTAL_CODE            object\n",
       "EMPLOYER_COUNTRY                object\n",
       "EMPLOYER_PHONE                  object\n",
       "AGENT_REPRESENTING_EMPLOYER     object\n",
       "AGENT_ATTORNEY_NAME             object\n",
       "JOB_TITLE                       object\n",
       "SOC_CODE                        object\n",
       "SOC_NAME                        object\n",
       "NAICS_CODE                      object\n",
       "TOTAL_WORKERS                    int64\n",
       "NEW_EMPLOYMENT                   int64\n",
       "CONTINUED_EMPLOYMENT             int64\n",
       "CHANGE_PREVIOUS_EMPLOYMENT       int64\n",
       "NEW_CONCURRENT_EMPLOYMENT        int64\n",
       "CHANGE_EMPLOYER                  int64\n",
       "AMENDED_PETITION                 int64\n",
       "FULL_TIME_POSITION              object\n",
       "PREVAILING_WAGE                float64\n",
       "PW_UNIT_OF_PAY                  object\n",
       "PW_SOURCE                       object\n",
       "PW_SOURCE_YEAR                 float64\n",
       "WAGE_RATE_OF_PAY_FROM          float64\n",
       "WAGE_RATE_OF_PAY_TO            float64\n",
       "WAGE_UNIT_OF_PAY                object\n",
       "H1B_DEPENDENT                   object\n",
       "WILLFUL_VIOLATOR                object\n",
       "WORKSITE_CITY                   object\n",
       "WORKSITE_COUNTY                 object\n",
       "WORKSITE_STATE                  object\n",
       "WORKSITE_POSTAL_CODE            object\n",
       "dtype: object"
      ]
     },
     "execution_count": 8,
     "metadata": {},
     "output_type": "execute_result"
    }
   ],
   "source": [
    "df.dtypes"
   ]
  },
  {
   "cell_type": "markdown",
   "metadata": {},
   "source": [
    "Decide to exclude case number"
   ]
  },
  {
   "cell_type": "code",
   "execution_count": 9,
   "metadata": {},
   "outputs": [],
   "source": [
    "df = df.drop([\"CASE_NUMBER\"], axis=1)\n",
    "#too many in job title"
   ]
  },
  {
   "cell_type": "code",
   "execution_count": 10,
   "metadata": {},
   "outputs": [
    {
     "data": {
      "text/html": [
       "<div>\n",
       "<style scoped>\n",
       "    .dataframe tbody tr th:only-of-type {\n",
       "        vertical-align: middle;\n",
       "    }\n",
       "\n",
       "    .dataframe tbody tr th {\n",
       "        vertical-align: top;\n",
       "    }\n",
       "\n",
       "    .dataframe thead th {\n",
       "        text-align: right;\n",
       "    }\n",
       "</style>\n",
       "<table border=\"1\" class=\"dataframe\">\n",
       "  <thead>\n",
       "    <tr style=\"text-align: right;\">\n",
       "      <th></th>\n",
       "      <th>CASE_STATUS</th>\n",
       "      <th>CASE_SUBMITTED</th>\n",
       "      <th>DECISION_DATE</th>\n",
       "      <th>VISA_CLASS</th>\n",
       "      <th>EMPLOYMENT_START_DATE</th>\n",
       "      <th>EMPLOYMENT_END_DATE</th>\n",
       "      <th>EMPLOYER_NAME</th>\n",
       "      <th>EMPLOYER_ADDRESS</th>\n",
       "      <th>EMPLOYER_CITY</th>\n",
       "      <th>EMPLOYER_STATE</th>\n",
       "      <th>...</th>\n",
       "      <th>FULL_TIME_POSITION</th>\n",
       "      <th>PW_UNIT_OF_PAY</th>\n",
       "      <th>PW_SOURCE</th>\n",
       "      <th>WAGE_UNIT_OF_PAY</th>\n",
       "      <th>H1B_DEPENDENT</th>\n",
       "      <th>WILLFUL_VIOLATOR</th>\n",
       "      <th>WORKSITE_CITY</th>\n",
       "      <th>WORKSITE_COUNTY</th>\n",
       "      <th>WORKSITE_STATE</th>\n",
       "      <th>WORKSITE_POSTAL_CODE</th>\n",
       "    </tr>\n",
       "  </thead>\n",
       "  <tbody>\n",
       "    <tr>\n",
       "      <th>0</th>\n",
       "      <td>CERTIFIED-WITHDRAWN</td>\n",
       "      <td>2015-10-06</td>\n",
       "      <td>2017-10-01</td>\n",
       "      <td>H-1B</td>\n",
       "      <td>2015-11-15</td>\n",
       "      <td>2017-11-14</td>\n",
       "      <td>MASSACHUSETTS INSTITUTE OF TECHNOLOGY</td>\n",
       "      <td>77 MASSACHUSETTS AVENUE</td>\n",
       "      <td>CAMBRIDGE</td>\n",
       "      <td>MA</td>\n",
       "      <td>...</td>\n",
       "      <td>Y</td>\n",
       "      <td>Year</td>\n",
       "      <td>OES</td>\n",
       "      <td>Year</td>\n",
       "      <td>N</td>\n",
       "      <td>N</td>\n",
       "      <td>CAMBRIDGE</td>\n",
       "      <td>MIDDLESEX</td>\n",
       "      <td>MA</td>\n",
       "      <td>02139</td>\n",
       "    </tr>\n",
       "    <tr>\n",
       "      <th>1</th>\n",
       "      <td>CERTIFIED-WITHDRAWN</td>\n",
       "      <td>2016-05-13</td>\n",
       "      <td>2017-10-01</td>\n",
       "      <td>H-1B</td>\n",
       "      <td>2016-09-01</td>\n",
       "      <td>2019-08-31</td>\n",
       "      <td>MASSACHUSETTS INSTITUTE OF TECHNOLOGY (MIT)</td>\n",
       "      <td>77 MASSACHUSETTS AVENUE</td>\n",
       "      <td>CAMBRIDGE</td>\n",
       "      <td>MA</td>\n",
       "      <td>...</td>\n",
       "      <td>Y</td>\n",
       "      <td>Year</td>\n",
       "      <td>OES</td>\n",
       "      <td>Year</td>\n",
       "      <td>N</td>\n",
       "      <td>N</td>\n",
       "      <td>CAMBRIDGE</td>\n",
       "      <td>MIDDLESEX COUNTY</td>\n",
       "      <td>MA</td>\n",
       "      <td>02139</td>\n",
       "    </tr>\n",
       "    <tr>\n",
       "      <th>2</th>\n",
       "      <td>CERTIFIED-WITHDRAWN</td>\n",
       "      <td>2016-11-04</td>\n",
       "      <td>2017-10-01</td>\n",
       "      <td>H-1B</td>\n",
       "      <td>2016-12-01</td>\n",
       "      <td>2017-11-30</td>\n",
       "      <td>MASSACHUSETTS INSTITUTE OF TECHNOLOGY</td>\n",
       "      <td>77 MASSACHUSETTS AVENUE</td>\n",
       "      <td>CAMBRIDGE</td>\n",
       "      <td>MA</td>\n",
       "      <td>...</td>\n",
       "      <td>Y</td>\n",
       "      <td>Year</td>\n",
       "      <td>OES</td>\n",
       "      <td>Year</td>\n",
       "      <td>N</td>\n",
       "      <td>N</td>\n",
       "      <td>CAMBRIDGE</td>\n",
       "      <td>MIDDLESEX</td>\n",
       "      <td>MA</td>\n",
       "      <td>02139</td>\n",
       "    </tr>\n",
       "    <tr>\n",
       "      <th>3</th>\n",
       "      <td>CERTIFIED-WITHDRAWN</td>\n",
       "      <td>2016-12-28</td>\n",
       "      <td>2017-10-01</td>\n",
       "      <td>H-1B</td>\n",
       "      <td>2017-02-01</td>\n",
       "      <td>2018-01-31</td>\n",
       "      <td>MASSACHUSETTS INSTITUTE OF TECHNOLOGY</td>\n",
       "      <td>77 MASSACHUSETTS AVENUE</td>\n",
       "      <td>CAMBRIDGE</td>\n",
       "      <td>MA</td>\n",
       "      <td>...</td>\n",
       "      <td>Y</td>\n",
       "      <td>Year</td>\n",
       "      <td>OES</td>\n",
       "      <td>Year</td>\n",
       "      <td>N</td>\n",
       "      <td>N</td>\n",
       "      <td>CAMBRIDGE</td>\n",
       "      <td>MIDDLESEX</td>\n",
       "      <td>MA</td>\n",
       "      <td>02139</td>\n",
       "    </tr>\n",
       "    <tr>\n",
       "      <th>4</th>\n",
       "      <td>CERTIFIED-WITHDRAWN</td>\n",
       "      <td>2017-02-24</td>\n",
       "      <td>2017-10-01</td>\n",
       "      <td>H-1B</td>\n",
       "      <td>2017-06-01</td>\n",
       "      <td>2018-05-31</td>\n",
       "      <td>MASSACHUSETTS INSTITUTE OF TECHNOLOGY</td>\n",
       "      <td>77 MASSACHUSETTS AVENUE</td>\n",
       "      <td>CAMBRIDGE</td>\n",
       "      <td>MA</td>\n",
       "      <td>...</td>\n",
       "      <td>Y</td>\n",
       "      <td>Year</td>\n",
       "      <td>OES</td>\n",
       "      <td>Year</td>\n",
       "      <td>N</td>\n",
       "      <td>N</td>\n",
       "      <td>CAMBRIDGE</td>\n",
       "      <td>MIDDLESEX</td>\n",
       "      <td>MA</td>\n",
       "      <td>02139</td>\n",
       "    </tr>\n",
       "  </tbody>\n",
       "</table>\n",
       "<p>5 rows × 29 columns</p>\n",
       "</div>"
      ],
      "text/plain": [
       "           CASE_STATUS CASE_SUBMITTED DECISION_DATE VISA_CLASS  \\\n",
       "0  CERTIFIED-WITHDRAWN     2015-10-06    2017-10-01       H-1B   \n",
       "1  CERTIFIED-WITHDRAWN     2016-05-13    2017-10-01       H-1B   \n",
       "2  CERTIFIED-WITHDRAWN     2016-11-04    2017-10-01       H-1B   \n",
       "3  CERTIFIED-WITHDRAWN     2016-12-28    2017-10-01       H-1B   \n",
       "4  CERTIFIED-WITHDRAWN     2017-02-24    2017-10-01       H-1B   \n",
       "\n",
       "  EMPLOYMENT_START_DATE EMPLOYMENT_END_DATE  \\\n",
       "0            2015-11-15          2017-11-14   \n",
       "1            2016-09-01          2019-08-31   \n",
       "2            2016-12-01          2017-11-30   \n",
       "3            2017-02-01          2018-01-31   \n",
       "4            2017-06-01          2018-05-31   \n",
       "\n",
       "                                 EMPLOYER_NAME         EMPLOYER_ADDRESS  \\\n",
       "0        MASSACHUSETTS INSTITUTE OF TECHNOLOGY  77 MASSACHUSETTS AVENUE   \n",
       "1  MASSACHUSETTS INSTITUTE OF TECHNOLOGY (MIT)  77 MASSACHUSETTS AVENUE   \n",
       "2        MASSACHUSETTS INSTITUTE OF TECHNOLOGY  77 MASSACHUSETTS AVENUE   \n",
       "3        MASSACHUSETTS INSTITUTE OF TECHNOLOGY  77 MASSACHUSETTS AVENUE   \n",
       "4        MASSACHUSETTS INSTITUTE OF TECHNOLOGY  77 MASSACHUSETTS AVENUE   \n",
       "\n",
       "  EMPLOYER_CITY EMPLOYER_STATE         ...          FULL_TIME_POSITION  \\\n",
       "0     CAMBRIDGE             MA         ...                           Y   \n",
       "1     CAMBRIDGE             MA         ...                           Y   \n",
       "2     CAMBRIDGE             MA         ...                           Y   \n",
       "3     CAMBRIDGE             MA         ...                           Y   \n",
       "4     CAMBRIDGE             MA         ...                           Y   \n",
       "\n",
       "  PW_UNIT_OF_PAY PW_SOURCE WAGE_UNIT_OF_PAY H1B_DEPENDENT WILLFUL_VIOLATOR  \\\n",
       "0           Year       OES             Year             N                N   \n",
       "1           Year       OES             Year             N                N   \n",
       "2           Year       OES             Year             N                N   \n",
       "3           Year       OES             Year             N                N   \n",
       "4           Year       OES             Year             N                N   \n",
       "\n",
       "  WORKSITE_CITY   WORKSITE_COUNTY WORKSITE_STATE WORKSITE_POSTAL_CODE  \n",
       "0     CAMBRIDGE         MIDDLESEX             MA                02139  \n",
       "1     CAMBRIDGE  MIDDLESEX COUNTY             MA                02139  \n",
       "2     CAMBRIDGE         MIDDLESEX             MA                02139  \n",
       "3     CAMBRIDGE         MIDDLESEX             MA                02139  \n",
       "4     CAMBRIDGE         MIDDLESEX             MA                02139  \n",
       "\n",
       "[5 rows x 29 columns]"
      ]
     },
     "execution_count": 10,
     "metadata": {},
     "output_type": "execute_result"
    }
   ],
   "source": [
    "obj_df = df.select_dtypes(include=['object']).copy()\n",
    "obj_df.head()"
   ]
  },
  {
   "cell_type": "code",
   "execution_count": 11,
   "metadata": {},
   "outputs": [
    {
     "data": {
      "text/plain": [
       "array(['N', 'Y', nan], dtype=object)"
      ]
     },
     "execution_count": 11,
     "metadata": {},
     "output_type": "execute_result"
    }
   ],
   "source": [
    "df[\"H1B_DEPENDENT\"].unique()"
   ]
  },
  {
   "cell_type": "code",
   "execution_count": 12,
   "metadata": {},
   "outputs": [
    {
     "data": {
      "text/plain": [
       "array(['N', nan, 'Y'], dtype=object)"
      ]
     },
     "execution_count": 12,
     "metadata": {},
     "output_type": "execute_result"
    }
   ],
   "source": [
    "df[\"WILLFUL_VIOLATOR\"].unique()"
   ]
  },
  {
   "cell_type": "markdown",
   "metadata": {},
   "source": [
    "Every employer is american so we can exclude this column phone number shouldnt matter and the agaent we cannot fill the missing values so all will be removed"
   ]
  },
  {
   "cell_type": "code",
   "execution_count": 13,
   "metadata": {},
   "outputs": [],
   "source": [
    "df = df.drop([\"EMPLOYER_COUNTRY\",\"EMPLOYER_PHONE\",\"AGENT_REPRESENTING_EMPLOYER\"], axis=1)"
   ]
  },
  {
   "cell_type": "code",
   "execution_count": 14,
   "metadata": {},
   "outputs": [
    {
     "data": {
      "text/plain": [
       "CASE_STATUS                       0\n",
       "CASE_SUBMITTED                    0\n",
       "DECISION_DATE                     0\n",
       "VISA_CLASS                        0\n",
       "EMPLOYMENT_START_DATE            30\n",
       "EMPLOYMENT_END_DATE              33\n",
       "EMPLOYER_NAME                    69\n",
       "EMPLOYER_ADDRESS                 11\n",
       "EMPLOYER_CITY                    19\n",
       "EMPLOYER_STATE                   48\n",
       "EMPLOYER_POSTAL_CODE             30\n",
       "AGENT_ATTORNEY_NAME               0\n",
       "JOB_TITLE                         3\n",
       "SOC_CODE                          0\n",
       "SOC_NAME                          1\n",
       "NAICS_CODE                        8\n",
       "TOTAL_WORKERS                     0\n",
       "NEW_EMPLOYMENT                    0\n",
       "CONTINUED_EMPLOYMENT              0\n",
       "CHANGE_PREVIOUS_EMPLOYMENT        0\n",
       "NEW_CONCURRENT_EMPLOYMENT         0\n",
       "CHANGE_EMPLOYER                   0\n",
       "AMENDED_PETITION                  0\n",
       "FULL_TIME_POSITION                6\n",
       "PREVAILING_WAGE                   3\n",
       "PW_UNIT_OF_PAY                   87\n",
       "PW_SOURCE                        86\n",
       "PW_SOURCE_YEAR                   88\n",
       "WAGE_RATE_OF_PAY_FROM             0\n",
       "WAGE_RATE_OF_PAY_TO               4\n",
       "WAGE_UNIT_OF_PAY                 12\n",
       "H1B_DEPENDENT                 24471\n",
       "WILLFUL_VIOLATOR              24479\n",
       "WORKSITE_CITY                    25\n",
       "WORKSITE_COUNTY                1978\n",
       "WORKSITE_STATE                   16\n",
       "WORKSITE_POSTAL_CODE             37\n",
       "dtype: int64"
      ]
     },
     "execution_count": 14,
     "metadata": {},
     "output_type": "execute_result"
    }
   ],
   "source": [
    "df.apply(lambda x: sum(x.isnull()),axis=0) "
   ]
  },
  {
   "cell_type": "code",
   "execution_count": 15,
   "metadata": {},
   "outputs": [
    {
     "data": {
      "text/plain": [
       "1097"
      ]
     },
     "execution_count": 15,
     "metadata": {},
     "output_type": "execute_result"
    }
   ],
   "source": [
    "len(df[\"SOC_NAME\"].unique())"
   ]
  },
  {
   "cell_type": "code",
   "execution_count": 16,
   "metadata": {},
   "outputs": [
    {
     "data": {
      "text/plain": [
       "925"
      ]
     },
     "execution_count": 16,
     "metadata": {},
     "output_type": "execute_result"
    }
   ],
   "source": [
    "len(df[\"SOC_CODE\"].unique())"
   ]
  },
  {
   "cell_type": "code",
   "execution_count": 17,
   "metadata": {},
   "outputs": [
    {
     "data": {
      "text/plain": [
       "10240"
      ]
     },
     "execution_count": 17,
     "metadata": {},
     "output_type": "execute_result"
    }
   ],
   "source": [
    "len(df[\"WORKSITE_CITY\"].unique())"
   ]
  },
  {
   "cell_type": "code",
   "execution_count": 18,
   "metadata": {},
   "outputs": [
    {
     "data": {
      "text/plain": [
       "58"
      ]
     },
     "execution_count": 18,
     "metadata": {},
     "output_type": "execute_result"
    }
   ],
   "source": [
    "len(df[\"WORKSITE_STATE\"].unique())"
   ]
  },
  {
   "cell_type": "code",
   "execution_count": 19,
   "metadata": {},
   "outputs": [
    {
     "data": {
      "text/plain": [
       "4852"
      ]
     },
     "execution_count": 19,
     "metadata": {},
     "output_type": "execute_result"
    }
   ],
   "source": [
    "len(df[\"WORKSITE_COUNTY\"].unique())"
   ]
  },
  {
   "cell_type": "markdown",
   "metadata": {},
   "source": [
    "drop all na values from all coloumns i definitely want to keep "
   ]
  },
  {
   "cell_type": "code",
   "execution_count": 20,
   "metadata": {},
   "outputs": [],
   "source": [
    "df = df.dropna(subset=['WILLFUL_VIOLATOR'])\n",
    "df = df.dropna(subset=['H1B_DEPENDENT'])\n",
    "df = df.dropna(subset=['EMPLOYER_NAME'])\n",
    "df = df.dropna(subset=['PREVAILING_WAGE'])\n",
    "df = df.dropna(subset=['SOC_NAME'])\n",
    "df = df.dropna(subset=['WORKSITE_STATE'])"
   ]
  },
  {
   "cell_type": "code",
   "execution_count": 21,
   "metadata": {},
   "outputs": [
    {
     "data": {
      "text/plain": [
       "CASE_STATUS                      0\n",
       "CASE_SUBMITTED                   0\n",
       "DECISION_DATE                    0\n",
       "VISA_CLASS                       0\n",
       "EMPLOYMENT_START_DATE           23\n",
       "EMPLOYMENT_END_DATE             25\n",
       "EMPLOYER_NAME                    0\n",
       "EMPLOYER_ADDRESS                 4\n",
       "EMPLOYER_CITY                   12\n",
       "EMPLOYER_STATE                  40\n",
       "EMPLOYER_POSTAL_CODE            23\n",
       "AGENT_ATTORNEY_NAME              0\n",
       "JOB_TITLE                        3\n",
       "SOC_CODE                         0\n",
       "SOC_NAME                         0\n",
       "NAICS_CODE                       2\n",
       "TOTAL_WORKERS                    0\n",
       "NEW_EMPLOYMENT                   0\n",
       "CONTINUED_EMPLOYMENT             0\n",
       "CHANGE_PREVIOUS_EMPLOYMENT       0\n",
       "NEW_CONCURRENT_EMPLOYMENT        0\n",
       "CHANGE_EMPLOYER                  0\n",
       "AMENDED_PETITION                 0\n",
       "FULL_TIME_POSITION               6\n",
       "PREVAILING_WAGE                  0\n",
       "PW_UNIT_OF_PAY                  52\n",
       "PW_SOURCE                       51\n",
       "PW_SOURCE_YEAR                  54\n",
       "WAGE_RATE_OF_PAY_FROM            0\n",
       "WAGE_RATE_OF_PAY_TO              3\n",
       "WAGE_UNIT_OF_PAY                 8\n",
       "H1B_DEPENDENT                    0\n",
       "WILLFUL_VIOLATOR                 0\n",
       "WORKSITE_CITY                   15\n",
       "WORKSITE_COUNTY               1891\n",
       "WORKSITE_STATE                   0\n",
       "WORKSITE_POSTAL_CODE            28\n",
       "dtype: int64"
      ]
     },
     "execution_count": 21,
     "metadata": {},
     "output_type": "execute_result"
    }
   ],
   "source": [
    "df.apply(lambda x: sum(x.isnull()),axis=0) "
   ]
  },
  {
   "cell_type": "markdown",
   "metadata": {},
   "source": [
    "low amount of misisng values left realative to the dataset size so they will all be removed"
   ]
  },
  {
   "cell_type": "code",
   "execution_count": 22,
   "metadata": {},
   "outputs": [],
   "source": [
    "df = df.dropna()"
   ]
  },
  {
   "cell_type": "code",
   "execution_count": 23,
   "metadata": {},
   "outputs": [],
   "source": [
    "df.to_csv(\"datasets/2017_2018_initial_processed.csv\", index=False)"
   ]
  }
 ],
 "metadata": {
  "kernelspec": {
   "display_name": "Python 3",
   "language": "python",
   "name": "python3"
  },
  "language_info": {
   "codemirror_mode": {
    "name": "ipython",
    "version": 3
   },
   "file_extension": ".py",
   "mimetype": "text/x-python",
   "name": "python",
   "nbconvert_exporter": "python",
   "pygments_lexer": "ipython3",
   "version": "3.7.0"
  }
 },
 "nbformat": 4,
 "nbformat_minor": 2
}
