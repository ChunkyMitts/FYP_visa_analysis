{
 "cells": [
  {
   "cell_type": "code",
   "execution_count": 1,
   "metadata": {},
   "outputs": [],
   "source": [
    "import matplotlib.pyplot as plt\n",
    "%matplotlib inline \n",
    "import seaborn as sns\n",
    "import pandas as pd\n",
    "df = pd.read_csv(\"datasets/ml_ready_set_unbalanced.csv\")"
   ]
  },
  {
   "cell_type": "code",
   "execution_count": 2,
   "metadata": {},
   "outputs": [
    {
     "data": {
      "text/html": [
       "<div>\n",
       "<style scoped>\n",
       "    .dataframe tbody tr th:only-of-type {\n",
       "        vertical-align: middle;\n",
       "    }\n",
       "\n",
       "    .dataframe tbody tr th {\n",
       "        vertical-align: top;\n",
       "    }\n",
       "\n",
       "    .dataframe thead th {\n",
       "        text-align: right;\n",
       "    }\n",
       "</style>\n",
       "<table border=\"1\" class=\"dataframe\">\n",
       "  <thead>\n",
       "    <tr style=\"text-align: right;\">\n",
       "      <th></th>\n",
       "      <th>PREVAILING_WAGE</th>\n",
       "      <th>WAGE_RATE_OF_PAY_FROM</th>\n",
       "      <th>wage_diff</th>\n",
       "      <th>applications_per_employer</th>\n",
       "      <th>employer_success_rate</th>\n",
       "      <th>decision_duration</th>\n",
       "      <th>employment_duration</th>\n",
       "      <th>regions_midwest</th>\n",
       "      <th>regions_northeast</th>\n",
       "      <th>regions_other</th>\n",
       "      <th>regions_south</th>\n",
       "      <th>regions_west</th>\n",
       "      <th>case_status_encoded</th>\n",
       "      <th>full_time_encoded</th>\n",
       "    </tr>\n",
       "  </thead>\n",
       "  <tbody>\n",
       "    <tr>\n",
       "      <th>0</th>\n",
       "      <td>58032.0</td>\n",
       "      <td>58032.0</td>\n",
       "      <td>0.0</td>\n",
       "      <td>362</td>\n",
       "      <td>98.6</td>\n",
       "      <td>726</td>\n",
       "      <td>730</td>\n",
       "      <td>0</td>\n",
       "      <td>1</td>\n",
       "      <td>0</td>\n",
       "      <td>0</td>\n",
       "      <td>0</td>\n",
       "      <td>0</td>\n",
       "      <td>1</td>\n",
       "    </tr>\n",
       "    <tr>\n",
       "      <th>1</th>\n",
       "      <td>60967.0</td>\n",
       "      <td>95600.0</td>\n",
       "      <td>34633.0</td>\n",
       "      <td>50</td>\n",
       "      <td>96.0</td>\n",
       "      <td>506</td>\n",
       "      <td>1094</td>\n",
       "      <td>0</td>\n",
       "      <td>1</td>\n",
       "      <td>0</td>\n",
       "      <td>0</td>\n",
       "      <td>0</td>\n",
       "      <td>0</td>\n",
       "      <td>1</td>\n",
       "    </tr>\n",
       "    <tr>\n",
       "      <th>2</th>\n",
       "      <td>50398.0</td>\n",
       "      <td>60400.0</td>\n",
       "      <td>10002.0</td>\n",
       "      <td>362</td>\n",
       "      <td>98.6</td>\n",
       "      <td>331</td>\n",
       "      <td>364</td>\n",
       "      <td>0</td>\n",
       "      <td>1</td>\n",
       "      <td>0</td>\n",
       "      <td>0</td>\n",
       "      <td>0</td>\n",
       "      <td>0</td>\n",
       "      <td>1</td>\n",
       "    </tr>\n",
       "    <tr>\n",
       "      <th>3</th>\n",
       "      <td>61069.0</td>\n",
       "      <td>65000.0</td>\n",
       "      <td>3931.0</td>\n",
       "      <td>362</td>\n",
       "      <td>98.6</td>\n",
       "      <td>277</td>\n",
       "      <td>364</td>\n",
       "      <td>0</td>\n",
       "      <td>1</td>\n",
       "      <td>0</td>\n",
       "      <td>0</td>\n",
       "      <td>0</td>\n",
       "      <td>0</td>\n",
       "      <td>1</td>\n",
       "    </tr>\n",
       "    <tr>\n",
       "      <th>4</th>\n",
       "      <td>41392.0</td>\n",
       "      <td>49383.0</td>\n",
       "      <td>7991.0</td>\n",
       "      <td>362</td>\n",
       "      <td>98.6</td>\n",
       "      <td>219</td>\n",
       "      <td>364</td>\n",
       "      <td>0</td>\n",
       "      <td>1</td>\n",
       "      <td>0</td>\n",
       "      <td>0</td>\n",
       "      <td>0</td>\n",
       "      <td>0</td>\n",
       "      <td>1</td>\n",
       "    </tr>\n",
       "  </tbody>\n",
       "</table>\n",
       "</div>"
      ],
      "text/plain": [
       "   PREVAILING_WAGE  WAGE_RATE_OF_PAY_FROM  wage_diff  \\\n",
       "0          58032.0                58032.0        0.0   \n",
       "1          60967.0                95600.0    34633.0   \n",
       "2          50398.0                60400.0    10002.0   \n",
       "3          61069.0                65000.0     3931.0   \n",
       "4          41392.0                49383.0     7991.0   \n",
       "\n",
       "   applications_per_employer  employer_success_rate  decision_duration  \\\n",
       "0                        362                   98.6                726   \n",
       "1                         50                   96.0                506   \n",
       "2                        362                   98.6                331   \n",
       "3                        362                   98.6                277   \n",
       "4                        362                   98.6                219   \n",
       "\n",
       "   employment_duration  regions_midwest  regions_northeast  regions_other  \\\n",
       "0                  730                0                  1              0   \n",
       "1                 1094                0                  1              0   \n",
       "2                  364                0                  1              0   \n",
       "3                  364                0                  1              0   \n",
       "4                  364                0                  1              0   \n",
       "\n",
       "   regions_south  regions_west  case_status_encoded  full_time_encoded  \n",
       "0              0             0                    0                  1  \n",
       "1              0             0                    0                  1  \n",
       "2              0             0                    0                  1  \n",
       "3              0             0                    0                  1  \n",
       "4              0             0                    0                  1  "
      ]
     },
     "execution_count": 2,
     "metadata": {},
     "output_type": "execute_result"
    }
   ],
   "source": [
    "df.head()"
   ]
  },
  {
   "cell_type": "code",
   "execution_count": 3,
   "metadata": {},
   "outputs": [],
   "source": [
    "from sklearn.model_selection import train_test_split\n",
    "target = df[\"case_status_encoded\"]\n",
    "df = df.drop(\"case_status_encoded\", axis=1)\n",
    "X_train, X_test, y_train, y_test = train_test_split(df, target, test_size=0.30, random_state=42)"
   ]
  },
  {
   "cell_type": "code",
   "execution_count": 4,
   "metadata": {},
   "outputs": [
    {
     "data": {
      "text/html": [
       "<div>\n",
       "<style scoped>\n",
       "    .dataframe tbody tr th:only-of-type {\n",
       "        vertical-align: middle;\n",
       "    }\n",
       "\n",
       "    .dataframe tbody tr th {\n",
       "        vertical-align: top;\n",
       "    }\n",
       "\n",
       "    .dataframe thead th {\n",
       "        text-align: right;\n",
       "    }\n",
       "</style>\n",
       "<table border=\"1\" class=\"dataframe\">\n",
       "  <thead>\n",
       "    <tr style=\"text-align: right;\">\n",
       "      <th></th>\n",
       "      <th>PREVAILING_WAGE</th>\n",
       "      <th>WAGE_RATE_OF_PAY_FROM</th>\n",
       "      <th>wage_diff</th>\n",
       "      <th>applications_per_employer</th>\n",
       "      <th>employer_success_rate</th>\n",
       "      <th>decision_duration</th>\n",
       "      <th>employment_duration</th>\n",
       "      <th>regions_midwest</th>\n",
       "      <th>regions_northeast</th>\n",
       "      <th>regions_other</th>\n",
       "      <th>regions_south</th>\n",
       "      <th>regions_west</th>\n",
       "      <th>full_time_encoded</th>\n",
       "    </tr>\n",
       "  </thead>\n",
       "  <tbody>\n",
       "    <tr>\n",
       "      <th>593838</th>\n",
       "      <td>39062.0</td>\n",
       "      <td>47500.0</td>\n",
       "      <td>8438.0</td>\n",
       "      <td>198</td>\n",
       "      <td>99.0</td>\n",
       "      <td>7</td>\n",
       "      <td>729</td>\n",
       "      <td>1</td>\n",
       "      <td>0</td>\n",
       "      <td>0</td>\n",
       "      <td>0</td>\n",
       "      <td>0</td>\n",
       "      <td>1</td>\n",
       "    </tr>\n",
       "    <tr>\n",
       "      <th>359213</th>\n",
       "      <td>83366.0</td>\n",
       "      <td>83400.0</td>\n",
       "      <td>34.0</td>\n",
       "      <td>69</td>\n",
       "      <td>100.0</td>\n",
       "      <td>6</td>\n",
       "      <td>486</td>\n",
       "      <td>1</td>\n",
       "      <td>0</td>\n",
       "      <td>0</td>\n",
       "      <td>0</td>\n",
       "      <td>0</td>\n",
       "      <td>1</td>\n",
       "    </tr>\n",
       "    <tr>\n",
       "      <th>877947</th>\n",
       "      <td>39062.0</td>\n",
       "      <td>47507.0</td>\n",
       "      <td>8445.0</td>\n",
       "      <td>65</td>\n",
       "      <td>96.9</td>\n",
       "      <td>6</td>\n",
       "      <td>1095</td>\n",
       "      <td>0</td>\n",
       "      <td>0</td>\n",
       "      <td>0</td>\n",
       "      <td>0</td>\n",
       "      <td>1</td>\n",
       "      <td>1</td>\n",
       "    </tr>\n",
       "    <tr>\n",
       "      <th>594570</th>\n",
       "      <td>70034.0</td>\n",
       "      <td>77037.0</td>\n",
       "      <td>7003.0</td>\n",
       "      <td>9192</td>\n",
       "      <td>99.4</td>\n",
       "      <td>7</td>\n",
       "      <td>829</td>\n",
       "      <td>0</td>\n",
       "      <td>0</td>\n",
       "      <td>0</td>\n",
       "      <td>1</td>\n",
       "      <td>0</td>\n",
       "      <td>1</td>\n",
       "    </tr>\n",
       "    <tr>\n",
       "      <th>268322</th>\n",
       "      <td>77667.0</td>\n",
       "      <td>78000.0</td>\n",
       "      <td>333.0</td>\n",
       "      <td>97</td>\n",
       "      <td>100.0</td>\n",
       "      <td>4</td>\n",
       "      <td>1095</td>\n",
       "      <td>0</td>\n",
       "      <td>0</td>\n",
       "      <td>0</td>\n",
       "      <td>0</td>\n",
       "      <td>1</td>\n",
       "      <td>1</td>\n",
       "    </tr>\n",
       "  </tbody>\n",
       "</table>\n",
       "</div>"
      ],
      "text/plain": [
       "        PREVAILING_WAGE  WAGE_RATE_OF_PAY_FROM  wage_diff  \\\n",
       "593838          39062.0                47500.0     8438.0   \n",
       "359213          83366.0                83400.0       34.0   \n",
       "877947          39062.0                47507.0     8445.0   \n",
       "594570          70034.0                77037.0     7003.0   \n",
       "268322          77667.0                78000.0      333.0   \n",
       "\n",
       "        applications_per_employer  employer_success_rate  decision_duration  \\\n",
       "593838                        198                   99.0                  7   \n",
       "359213                         69                  100.0                  6   \n",
       "877947                         65                   96.9                  6   \n",
       "594570                       9192                   99.4                  7   \n",
       "268322                         97                  100.0                  4   \n",
       "\n",
       "        employment_duration  regions_midwest  regions_northeast  \\\n",
       "593838                  729                1                  0   \n",
       "359213                  486                1                  0   \n",
       "877947                 1095                0                  0   \n",
       "594570                  829                0                  0   \n",
       "268322                 1095                0                  0   \n",
       "\n",
       "        regions_other  regions_south  regions_west  full_time_encoded  \n",
       "593838              0              0             0                  1  \n",
       "359213              0              0             0                  1  \n",
       "877947              0              0             1                  1  \n",
       "594570              0              1             0                  1  \n",
       "268322              0              0             1                  1  "
      ]
     },
     "execution_count": 4,
     "metadata": {},
     "output_type": "execute_result"
    }
   ],
   "source": [
    "X_train.head()"
   ]
  },
  {
   "cell_type": "code",
   "execution_count": 5,
   "metadata": {},
   "outputs": [
    {
     "data": {
      "text/plain": [
       "0    761114\n",
       "1      9478\n",
       "Name: case_status_encoded, dtype: int64"
      ]
     },
     "execution_count": 5,
     "metadata": {},
     "output_type": "execute_result"
    }
   ],
   "source": [
    "y_train.value_counts()"
   ]
  },
  {
   "cell_type": "code",
   "execution_count": 7,
   "metadata": {},
   "outputs": [],
   "source": [
    "from sklearn.preprocessing import StandardScaler\n",
    "scaler = StandardScaler()\n",
    "def scale_data(X_train, X_test):\n",
    "    X_train_scaled = scaler.fit_transform(X_train)\n",
    "    X_test_scaled = scaler.fit_transform(X_test)\n",
    "    return X_train_scaled, X_test_scaled"
   ]
  },
  {
   "cell_type": "code",
   "execution_count": 12,
   "metadata": {},
   "outputs": [],
   "source": [
    "def plot_confusion_matrix(cm, target_names, title='Confusion matrix', cmap=None, normalize=True):\n",
    "    import matplotlib.pyplot as plt\n",
    "    import numpy as np\n",
    "    import itertools\n",
    "\n",
    "    accuracy = np.trace(cm) / float(np.sum(cm))\n",
    "    misclass = 1 - accuracy\n",
    "\n",
    "    if cmap is None:\n",
    "        cmap = plt.get_cmap('Blues')\n",
    "\n",
    "    plt.figure(figsize=(8, 6))\n",
    "    plt.imshow(cm, interpolation='nearest', cmap=cmap)\n",
    "    plt.title(title)\n",
    "    plt.colorbar()\n",
    "\n",
    "    if target_names is not None:\n",
    "        tick_marks = np.arange(len(target_names))\n",
    "        plt.xticks(tick_marks, target_names, rotation=45)\n",
    "        plt.yticks(tick_marks, target_names)\n",
    "\n",
    "    if normalize:\n",
    "        cm = cm.astype('float') / cm.sum(axis=1)[:, np.newaxis]\n",
    "\n",
    "\n",
    "    thresh = cm.max() / 1.5 if normalize else cm.max() / 2\n",
    "    for i, j in itertools.product(range(cm.shape[0]), range(cm.shape[1])):\n",
    "        if normalize:\n",
    "            plt.text(j, i, \"{:0.4f}\".format(cm[i, j]),\n",
    "                     horizontalalignment=\"center\",\n",
    "                     color=\"white\" if cm[i, j] > thresh else \"black\")\n",
    "        else:\n",
    "            plt.text(j, i, \"{:,}\".format(cm[i, j]),\n",
    "                     horizontalalignment=\"center\",\n",
    "                     color=\"white\" if cm[i, j] > thresh else \"black\")\n",
    "\n",
    "\n",
    "    plt.tight_layout()\n",
    "    plt.ylabel('True label')\n",
    "    plt.xlabel('Predicted label\\naccuracy={:0.4f}; misclass={:0.4f}'.format(accuracy, misclass))\n",
    "    plt.show()"
   ]
  },
  {
   "cell_type": "code",
   "execution_count": 14,
   "metadata": {},
   "outputs": [
    {
     "name": "stderr",
     "output_type": "stream",
     "text": [
      "c:\\users\\aidan\\appdata\\local\\programs\\python\\python37\\lib\\site-packages\\sklearn\\preprocessing\\data.py:617: DataConversionWarning: Data with input dtype int64, float64 were all converted to float64 by StandardScaler.\n",
      "  return self.partial_fit(X, y)\n",
      "c:\\users\\aidan\\appdata\\local\\programs\\python\\python37\\lib\\site-packages\\sklearn\\base.py:462: DataConversionWarning: Data with input dtype int64, float64 were all converted to float64 by StandardScaler.\n",
      "  return self.fit(X, **fit_params).transform(X)\n",
      "c:\\users\\aidan\\appdata\\local\\programs\\python\\python37\\lib\\site-packages\\sklearn\\preprocessing\\data.py:617: DataConversionWarning: Data with input dtype int64, float64 were all converted to float64 by StandardScaler.\n",
      "  return self.partial_fit(X, y)\n",
      "c:\\users\\aidan\\appdata\\local\\programs\\python\\python37\\lib\\site-packages\\sklearn\\base.py:462: DataConversionWarning: Data with input dtype int64, float64 were all converted to float64 by StandardScaler.\n",
      "  return self.fit(X, **fit_params).transform(X)\n",
      "c:\\users\\aidan\\appdata\\local\\programs\\python\\python37\\lib\\site-packages\\sklearn\\linear_model\\logistic.py:432: FutureWarning: Default solver will be changed to 'lbfgs' in 0.22. Specify a solver to silence this warning.\n",
      "  FutureWarning)\n"
     ]
    },
    {
     "data": {
      "text/plain": [
       "LogisticRegression(C=1.0, class_weight=None, dual=False, fit_intercept=True,\n",
       "          intercept_scaling=1, max_iter=100, multi_class='warn',\n",
       "          n_jobs=None, penalty='l2', random_state=None, solver='warn',\n",
       "          tol=0.0001, verbose=0, warm_start=False)"
      ]
     },
     "execution_count": 14,
     "metadata": {},
     "output_type": "execute_result"
    }
   ],
   "source": [
    "from sklearn.linear_model import LogisticRegression\n",
    "X_train_scaled, X_test_scaled = scale_data(X_train, X_test)\n",
    "model = LogisticRegression()\n",
    "model.fit(X_train_scaled, y_train)"
   ]
  },
  {
   "cell_type": "code",
   "execution_count": 19,
   "metadata": {},
   "outputs": [
    {
     "name": "stdout",
     "output_type": "stream",
     "text": [
      "Accuracy : 99.068%\n"
     ]
    },
    {
     "data": {
      "image/png": "[encoded data removed]",
      "text/plain": [
       "<Figure size 576x432 with 2 Axes>"
      ]
     },
     "metadata": {
      "needs_background": "light"
     },
     "output_type": "display_data"
    }
   ],
   "source": [
    "from sklearn import metrics\n",
    "from sklearn.metrics import confusion_matrix\n",
    "predictions = model.predict(X_test_scaled)\n",
    "accuracy = metrics.accuracy_score(predictions,y_test)\n",
    "print (\"Accuracy : %s\" % \"{0:.3%}\".format(accuracy))\n",
    "cm = confusion_matrix(y_test, predictions)\n",
    "plot_confusion_matrix(cm, target_names=[\"0\", \"1\"], title=\"Confusion Matrix\", cmap=None, normalize=False)"
   ]
  },
  {
   "cell_type": "code",
   "execution_count": 21,
   "metadata": {},
   "outputs": [
    {
     "name": "stderr",
     "output_type": "stream",
     "text": [
      "c:\\users\\aidan\\appdata\\local\\programs\\python\\python37\\lib\\site-packages\\sklearn\\ensemble\\forest.py:248: FutureWarning: The default value of n_estimators will change from 10 in version 0.20 to 100 in 0.22.\n",
      "  \"10 in version 0.20 to 100 in 0.22.\", FutureWarning)\n"
     ]
    },
    {
     "name": "stdout",
     "output_type": "stream",
     "text": [
      "Accuracy : 65.909%\n"
     ]
    },
    {
     "data": {
      "image/png": "[encoded data removed]",
      "text/plain": [
       "<Figure size 576x432 with 2 Axes>"
      ]
     },
     "metadata": {
      "needs_background": "light"
     },
     "output_type": "display_data"
    }
   ],
   "source": [
    "from sklearn.ensemble import RandomForestClassifier\n",
    "model = RandomForestClassifier()\n",
    "model.fit(X_train_scaled, y_train)\n",
    "predictions = model.predict(X_test_scaled)\n",
    "accuracy = metrics.accuracy_score(predictions,y_test)\n",
    "print (\"Accuracy : %s\" % \"{0:.3%}\".format(accuracy))\n",
    "cm = confusion_matrix(y_test, predictions)\n",
    "plot_confusion_matrix(cm, target_names=[\"0\", \"1\"], title=\"Confusion Matrix\", cmap=None, normalize=False)"
   ]
  },
  {
   "cell_type": "code",
   "execution_count": null,
   "metadata": {},
   "outputs": [],
   "source": [
    "df[\"PREVAILING_WAGE\"].hist(bins=500, figsize=(20,10) , color = 'b')"
   ]
  },
  {
   "cell_type": "code",
   "execution_count": null,
   "metadata": {},
   "outputs": [],
   "source": [
    "df[\"wage_diff\"].hist(bins=500, figsize=(20,10) , color = 'b')"
   ]
  },
  {
   "cell_type": "code",
   "execution_count": null,
   "metadata": {},
   "outputs": [],
   "source": [
    "df[\"wage_diff\"].mean()"
   ]
  },
  {
   "cell_type": "code",
   "execution_count": null,
   "metadata": {},
   "outputs": [],
   "source": [
    "print(df[\"PREVAILING_WAGE\"].mean() + (df[\"PREVAILING_WAGE\"].std() * 2))"
   ]
  },
  {
   "cell_type": "code",
   "execution_count": null,
   "metadata": {},
   "outputs": [],
   "source": [
    "df = df[df[\"PREVAILING_WAGE\"] < 200]"
   ]
  },
  {
   "cell_type": "markdown",
   "metadata": {},
   "source": [
    "removed an rows with prevailing wage below 200 as these values dont make sense as it should be wage in years"
   ]
  }
 ],
 "metadata": {
  "kernelspec": {
   "display_name": "Python 3",
   "language": "python",
   "name": "python3"
  },
  "language_info": {
   "codemirror_mode": {
    "name": "ipython",
    "version": 3
   },
   "file_extension": ".py",
   "mimetype": "text/x-python",
   "name": "python",
   "nbconvert_exporter": "python",
   "pygments_lexer": "ipython3",
   "version": "3.7.0"
  }
 },
 "nbformat": 4,
 "nbformat_minor": 2
}
