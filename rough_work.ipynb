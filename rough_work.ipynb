{
 "cells": [
  {
   "cell_type": "code",
   "execution_count": 1,
   "metadata": {},
   "outputs": [
    {
     "data": {
      "text/html": [
       "<div>\n",
       "<style scoped>\n",
       "    .dataframe tbody tr th:only-of-type {\n",
       "        vertical-align: middle;\n",
       "    }\n",
       "\n",
       "    .dataframe tbody tr th {\n",
       "        vertical-align: top;\n",
       "    }\n",
       "\n",
       "    .dataframe thead th {\n",
       "        text-align: right;\n",
       "    }\n",
       "</style>\n",
       "<table border=\"1\" class=\"dataframe\">\n",
       "  <thead>\n",
       "    <tr style=\"text-align: right;\">\n",
       "      <th></th>\n",
       "      <th>CASE_STATUS</th>\n",
       "      <th>EMPLOYER_NAME</th>\n",
       "      <th>SOC_CODE</th>\n",
       "      <th>SOC_NAME</th>\n",
       "      <th>PREVAILING_WAGE</th>\n",
       "      <th>H1B_DEPENDENT</th>\n",
       "      <th>WILLFUL_VIOLATOR</th>\n",
       "      <th>WORKSITE_STATE</th>\n",
       "    </tr>\n",
       "  </thead>\n",
       "  <tbody>\n",
       "    <tr>\n",
       "      <th>0</th>\n",
       "      <td>CERTIFIED-WITHDRAWN</td>\n",
       "      <td>MASSACHUSETTS INSTITUTE OF TECHNOLOGY</td>\n",
       "      <td>15-2041</td>\n",
       "      <td>STATISTICIANS</td>\n",
       "      <td>58032.00</td>\n",
       "      <td>N</td>\n",
       "      <td>N</td>\n",
       "      <td>MA</td>\n",
       "    </tr>\n",
       "    <tr>\n",
       "      <th>1</th>\n",
       "      <td>CERTIFIED-WITHDRAWN</td>\n",
       "      <td>MASSACHUSETTS INSTITUTE OF TECHNOLOGY (MIT)</td>\n",
       "      <td>25-1031</td>\n",
       "      <td>ARCHITECTURE TEACHERS, POSTSECONDARY</td>\n",
       "      <td>60967.00</td>\n",
       "      <td>N</td>\n",
       "      <td>N</td>\n",
       "      <td>MA</td>\n",
       "    </tr>\n",
       "    <tr>\n",
       "      <th>2</th>\n",
       "      <td>CERTIFIED-WITHDRAWN</td>\n",
       "      <td>MASSACHUSETTS INSTITUTE OF TECHNOLOGY</td>\n",
       "      <td>19-2012</td>\n",
       "      <td>PHYSICISTS</td>\n",
       "      <td>50398.00</td>\n",
       "      <td>N</td>\n",
       "      <td>N</td>\n",
       "      <td>MA</td>\n",
       "    </tr>\n",
       "    <tr>\n",
       "      <th>3</th>\n",
       "      <td>CERTIFIED-WITHDRAWN</td>\n",
       "      <td>MASSACHUSETTS INSTITUTE OF TECHNOLOGY</td>\n",
       "      <td>19-2042</td>\n",
       "      <td>GEOSCIENTISTS, EXCEPT HYDROLOGISTS AND GEOGRAP...</td>\n",
       "      <td>61069.00</td>\n",
       "      <td>N</td>\n",
       "      <td>N</td>\n",
       "      <td>MA</td>\n",
       "    </tr>\n",
       "    <tr>\n",
       "      <th>4</th>\n",
       "      <td>CERTIFIED-WITHDRAWN</td>\n",
       "      <td>MASSACHUSETTS INSTITUTE OF TECHNOLOGY</td>\n",
       "      <td>17-2131</td>\n",
       "      <td>MATERIALS ENGINEERS</td>\n",
       "      <td>41392.00</td>\n",
       "      <td>N</td>\n",
       "      <td>N</td>\n",
       "      <td>MA</td>\n",
       "    </tr>\n",
       "    <tr>\n",
       "      <th>5</th>\n",
       "      <td>CERTIFIED-WITHDRAWN</td>\n",
       "      <td>PARK VIEW TRAVEL BEVERLY HILLS, LLC</td>\n",
       "      <td>13-1121</td>\n",
       "      <td>MEETING, CONVENTION, AND EVENT PLANNERS</td>\n",
       "      <td>45198.00</td>\n",
       "      <td>N</td>\n",
       "      <td>N</td>\n",
       "      <td>CA</td>\n",
       "    </tr>\n",
       "    <tr>\n",
       "      <th>6</th>\n",
       "      <td>WITHDRAWN</td>\n",
       "      <td>IBM INDIA PRIVATE LIMITED</td>\n",
       "      <td>15-1131</td>\n",
       "      <td>COMPUTER PROGRAMMERS</td>\n",
       "      <td>64979.00</td>\n",
       "      <td>N</td>\n",
       "      <td>N</td>\n",
       "      <td>IL</td>\n",
       "    </tr>\n",
       "    <tr>\n",
       "      <th>7</th>\n",
       "      <td>WITHDRAWN</td>\n",
       "      <td>IBM INDIA PRIVATE LIMITED</td>\n",
       "      <td>15-1131</td>\n",
       "      <td>COMPUTER PROGRAMMERS</td>\n",
       "      <td>72280.00</td>\n",
       "      <td>N</td>\n",
       "      <td>N</td>\n",
       "      <td>NJ</td>\n",
       "    </tr>\n",
       "    <tr>\n",
       "      <th>8</th>\n",
       "      <td>WITHDRAWN</td>\n",
       "      <td>BTREE SOLUTIONS INC</td>\n",
       "      <td>15-1121</td>\n",
       "      <td>COMPUTER SYSTEMS ANALYSTS</td>\n",
       "      <td>75442.00</td>\n",
       "      <td>Y</td>\n",
       "      <td>N</td>\n",
       "      <td>OH</td>\n",
       "    </tr>\n",
       "    <tr>\n",
       "      <th>9</th>\n",
       "      <td>WITHDRAWN</td>\n",
       "      <td>YOUNIS ART STUDIO, INC,</td>\n",
       "      <td>27-1024</td>\n",
       "      <td>GRAPHIC DESIGNERS</td>\n",
       "      <td>8.24</td>\n",
       "      <td>N</td>\n",
       "      <td>N</td>\n",
       "      <td>MP</td>\n",
       "    </tr>\n",
       "  </tbody>\n",
       "</table>\n",
       "</div>"
      ],
      "text/plain": [
       "           CASE_STATUS                                EMPLOYER_NAME SOC_CODE  \\\n",
       "0  CERTIFIED-WITHDRAWN        MASSACHUSETTS INSTITUTE OF TECHNOLOGY  15-2041   \n",
       "1  CERTIFIED-WITHDRAWN  MASSACHUSETTS INSTITUTE OF TECHNOLOGY (MIT)  25-1031   \n",
       "2  CERTIFIED-WITHDRAWN        MASSACHUSETTS INSTITUTE OF TECHNOLOGY  19-2012   \n",
       "3  CERTIFIED-WITHDRAWN        MASSACHUSETTS INSTITUTE OF TECHNOLOGY  19-2042   \n",
       "4  CERTIFIED-WITHDRAWN        MASSACHUSETTS INSTITUTE OF TECHNOLOGY  17-2131   \n",
       "5  CERTIFIED-WITHDRAWN          PARK VIEW TRAVEL BEVERLY HILLS, LLC  13-1121   \n",
       "6            WITHDRAWN                    IBM INDIA PRIVATE LIMITED  15-1131   \n",
       "7            WITHDRAWN                    IBM INDIA PRIVATE LIMITED  15-1131   \n",
       "8            WITHDRAWN                          BTREE SOLUTIONS INC  15-1121   \n",
       "9            WITHDRAWN                      YOUNIS ART STUDIO, INC,  27-1024   \n",
       "\n",
       "                                            SOC_NAME  PREVAILING_WAGE  \\\n",
       "0                                      STATISTICIANS         58032.00   \n",
       "1               ARCHITECTURE TEACHERS, POSTSECONDARY         60967.00   \n",
       "2                                         PHYSICISTS         50398.00   \n",
       "3  GEOSCIENTISTS, EXCEPT HYDROLOGISTS AND GEOGRAP...         61069.00   \n",
       "4                                MATERIALS ENGINEERS         41392.00   \n",
       "5            MEETING, CONVENTION, AND EVENT PLANNERS         45198.00   \n",
       "6                               COMPUTER PROGRAMMERS         64979.00   \n",
       "7                               COMPUTER PROGRAMMERS         72280.00   \n",
       "8                          COMPUTER SYSTEMS ANALYSTS         75442.00   \n",
       "9                                  GRAPHIC DESIGNERS             8.24   \n",
       "\n",
       "  H1B_DEPENDENT WILLFUL_VIOLATOR WORKSITE_STATE  \n",
       "0             N                N             MA  \n",
       "1             N                N             MA  \n",
       "2             N                N             MA  \n",
       "3             N                N             MA  \n",
       "4             N                N             MA  \n",
       "5             N                N             CA  \n",
       "6             N                N             IL  \n",
       "7             N                N             NJ  \n",
       "8             Y                N             OH  \n",
       "9             N                N             MP  "
      ]
     },
     "execution_count": 1,
     "metadata": {},
     "output_type": "execute_result"
    }
   ],
   "source": [
    "import pandas as pd\n",
    "import matplotlib.pyplot as plt\n",
    "\n",
    "df = pd.read_csv(\"datasets/2017_2018_initial_processed.csv\")\n",
    "df.head(10)"
   ]
  },
  {
   "cell_type": "code",
   "execution_count": 2,
   "metadata": {},
   "outputs": [
    {
     "data": {
      "text/plain": [
       "CASE_STATUS             0\n",
       "EMPLOYER_NAME          69\n",
       "SOC_CODE                0\n",
       "SOC_NAME                1\n",
       "PREVAILING_WAGE         3\n",
       "H1B_DEPENDENT       24471\n",
       "WILLFUL_VIOLATOR    24479\n",
       "WORKSITE_STATE         16\n",
       "dtype: int64"
      ]
     },
     "execution_count": 2,
     "metadata": {},
     "output_type": "execute_result"
    }
   ],
   "source": [
    "df.apply(lambda x: sum(x.isnull()),axis=0) "
   ]
  },
  {
   "cell_type": "code",
   "execution_count": 3,
   "metadata": {},
   "outputs": [],
   "source": [
    "df = df.dropna(subset=['EMPLOYER_NAME'])\n",
    "df = df.dropna(subset=['PREVAILING_WAGE'])\n",
    "df = df.dropna(subset=['SOC_NAME'])\n",
    "df = df.dropna(subset=['WORKSITE_STATE'])"
   ]
  },
  {
   "cell_type": "markdown",
   "metadata": {},
   "source": [
    "Removing withdrawn from dataset, replace all cert-withdrawn with cert"
   ]
  },
  {
   "cell_type": "code",
   "execution_count": 4,
   "metadata": {},
   "outputs": [
    {
     "data": {
      "text/plain": [
       "array(['CERTIFIED-WITHDRAWN', 'WITHDRAWN', 'CERTIFIED', 'DENIED'],\n",
       "      dtype=object)"
      ]
     },
     "execution_count": 4,
     "metadata": {},
     "output_type": "execute_result"
    }
   ],
   "source": [
    "df[\"CASE_STATUS\"].unique()"
   ]
  },
  {
   "cell_type": "code",
   "execution_count": 5,
   "metadata": {},
   "outputs": [],
   "source": [
    "df = df[df[\"CASE_STATUS\"] != 'WITHDRAWN']"
   ]
  },
  {
   "cell_type": "code",
   "execution_count": 6,
   "metadata": {},
   "outputs": [],
   "source": [
    "df[\"CASE_STATUS\"].replace('CERTIFIED-WITHDRAWN', 'CERTIFIED', inplace=True)"
   ]
  },
  {
   "cell_type": "code",
   "execution_count": 7,
   "metadata": {},
   "outputs": [
    {
     "name": "stdout",
     "output_type": "stream",
     "text": [
      "DENIED         15608\n",
      "CERTIFIED    1112422\n",
      "Name: CASE_STATUS, dtype: int64\n"
     ]
    }
   ],
   "source": [
    "temp1 = df[\"CASE_STATUS\"].value_counts(ascending=True)\n",
    "print(temp1)\n"
   ]
  },
  {
   "cell_type": "code",
   "execution_count": 8,
   "metadata": {},
   "outputs": [
    {
     "data": {
      "text/plain": [
       "<matplotlib.axes._subplots.AxesSubplot at 0x1c923d8aba8>"
      ]
     },
     "execution_count": 8,
     "metadata": {},
     "output_type": "execute_result"
    },
    {
     "data": {
      "image/png": "[encoded data removed]",
      "text/plain": [
       "<Figure size 576x288 with 1 Axes>"
      ]
     },
     "metadata": {
      "needs_background": "light"
     },
     "output_type": "display_data"
    }
   ],
   "source": [
    "fig = plt.figure(figsize=(8,4))\n",
    "ax1 = fig.add_subplot(121)\n",
    "ax1.set_xlabel('Case Status')\n",
    "ax1.set_ylabel('Count of Applicants')\n",
    "ax1.set_title(\"Case status results\")\n",
    "temp1.plot(kind='bar')"
   ]
  },
  {
   "cell_type": "code",
   "execution_count": 9,
   "metadata": {},
   "outputs": [
    {
     "name": "stdout",
     "output_type": "stream",
     "text": [
      "CERTIFIED    0.986163\n",
      "DENIED       0.013837\n",
      "Name: CASE_STATUS, dtype: float64\n"
     ]
    }
   ],
   "source": [
    "temp1 = df[\"CASE_STATUS\"].value_counts(normalize=True)\n",
    "print(temp1)"
   ]
  }
 ],
 "metadata": {
  "kernelspec": {
   "display_name": "Python 3",
   "language": "python",
   "name": "python3"
  },
  "language_info": {
   "codemirror_mode": {
    "name": "ipython",
    "version": 3
   },
   "file_extension": ".py",
   "mimetype": "text/x-python",
   "name": "python",
   "nbconvert_exporter": "python",
   "pygments_lexer": "ipython3",
   "version": "3.7.0"
  }
 },
 "nbformat": 4,
 "nbformat_minor": 2
}
